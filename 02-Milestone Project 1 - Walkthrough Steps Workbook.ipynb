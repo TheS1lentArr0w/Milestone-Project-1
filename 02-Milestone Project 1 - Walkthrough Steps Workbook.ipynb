{
 "cells": [
  {
   "cell_type": "markdown",
   "metadata": {},
   "source": [
    "___\n",
    "\n",
    "<a href='https://www.udemy.com/user/joseportilla/'><img src='../Pierian_Data_Logo.png'/></a>\n",
    "___\n",
    "<center><em>Content Copyright by Pierian Data</em></center>"
   ]
  },
  {
   "cell_type": "markdown",
   "metadata": {},
   "source": [
    "# Milestone Project 1: Walkthrough Steps Workbook\n",
    "\n",
    "Below is a set of steps for you to follow to try to create the Tic Tac Toe Milestone Project game!"
   ]
  },
  {
   "cell_type": "markdown",
   "metadata": {},
   "source": [
    "#### Some suggested tools before you get started:\n",
    "To take input from a user:\n",
    "\n",
    "    player1 = input(\"Please pick a marker 'X' or 'O'\")\n",
    "    \n",
    "Note that input() takes in a string. If you need an integer value, use\n",
    "\n",
    "    position = int(input('Please enter a number'))\n",
    "    \n",
    "<br>To clear the screen between moves:\n",
    "\n",
    "    from IPython.display import clear_output\n",
    "    clear_output()\n",
    "    \n",
    "Note that clear_output() will only work in jupyter. To clear the screen in other IDEs, consider:\n",
    "\n",
    "    print('\\n'*100)\n",
    "    \n",
    "This scrolls the previous board up out of view. Now on to the program!"
   ]
  },
  {
   "cell_type": "markdown",
   "metadata": {},
   "source": [
    "**Step 1: Write a function that can print out a board. Set up your board as a list, where each index 1-9 corresponds with a number on a number pad, so you get a 3 by 3 board representation.**"
   ]
  },
  {
   "cell_type": "code",
   "execution_count": 1,
   "metadata": {},
   "outputs": [],
   "source": [
    "from IPython.display import clear_output\n",
    "\n",
    "def display_board(board):\n",
    "    print(board[7] +'|'+ board[8] +'|'+ board[9])\n",
    "    print(board[4] +'|'+ board[5] +'|'+ board[6])\n",
    "    print(board[1] +'|'+ board[2] +'|'+ board[3])\n",
    "    pass"
   ]
  },
  {
   "cell_type": "markdown",
   "metadata": {},
   "source": [
    "**TEST Step 1:** run your function on a test version of the board list, and make adjustments as necessary"
   ]
  },
  {
   "cell_type": "code",
   "execution_count": 30,
   "metadata": {},
   "outputs": [
    {
     "name": "stdout",
     "output_type": "stream",
     "text": [
      "X|O|X\n",
      "O|X|O\n",
      " |O|X\n"
     ]
    }
   ],
   "source": [
    "test_board = ['#',' ','O','X','O','X','O','X','O','X']\n",
    "display_board(test_board)"
   ]
  },
  {
   "cell_type": "markdown",
   "metadata": {},
   "source": [
    "**Step 2: Write a function that can take in a player input and assign their marker as 'X' or 'O'. Think about using *while* loops to continually ask until you get a correct answer.**"
   ]
  },
  {
   "cell_type": "code",
   "execution_count": 2,
   "metadata": {},
   "outputs": [],
   "source": [
    "def player_input():\n",
    "    \n",
    "    choice = 'WRONG'\n",
    "    acceptable_values = ['X','O']\n",
    "    \n",
    "    while choice not in acceptable_values:\n",
    "        \n",
    "        choice = input(\"Will you be X or O?: \")\n",
    "        \n",
    "        if choice not in acceptable_values:\n",
    "            print(\"Sorry, please type either X or O.\")\n",
    "    \n",
    "    player1_marker = choice\n",
    "    if player1_marker == 'X':\n",
    "        player2_marker = 'O'\n",
    "    else:       \n",
    "        player2_marker = 'X'\n",
    "        \n",
    "    # Don't know if I need this return part yet\n",
    "    return player1_marker, player2_marker\n",
    "    pass"
   ]
  },
  {
   "cell_type": "markdown",
   "metadata": {},
   "source": [
    "**TEST Step 2:** run the function to make sure it returns the desired output"
   ]
  },
  {
   "cell_type": "code",
   "execution_count": 4,
   "metadata": {},
   "outputs": [
    {
     "name": "stdout",
     "output_type": "stream",
     "text": [
      "Will you be X or O?: \n",
      "Sorry, please type either X or O.\n",
      "Will you be X or O?: \n",
      "Sorry, please type either X or O.\n",
      "Will you be X or O?: \n",
      "Sorry, please type either X or O.\n",
      "Will you be X or O?: \n",
      "Sorry, please type either X or O.\n",
      "Will you be X or O?: X\n"
     ]
    },
    {
     "data": {
      "text/plain": [
       "('X', 'O')"
      ]
     },
     "execution_count": 4,
     "metadata": {},
     "output_type": "execute_result"
    }
   ],
   "source": [
    "player_input()"
   ]
  },
  {
   "cell_type": "markdown",
   "metadata": {},
   "source": [
    "**Step 3: Write a function that takes in the board list object, a marker ('X' or 'O'), and a desired position (number 1-9) and assigns it to the board.**"
   ]
  },
  {
   "cell_type": "code",
   "execution_count": 3,
   "metadata": {},
   "outputs": [],
   "source": [
    "def place_marker(board, marker, position):\n",
    "    board[position] = marker\n",
    "    pass"
   ]
  },
  {
   "cell_type": "markdown",
   "metadata": {},
   "source": [
    "**TEST Step 3:** run the place marker function using test parameters and display the modified board"
   ]
  },
  {
   "cell_type": "code",
   "execution_count": 8,
   "metadata": {},
   "outputs": [
    {
     "name": "stdout",
     "output_type": "stream",
     "text": [
      "X|$|X\n",
      "O|X|O\n",
      "X|O|X\n"
     ]
    }
   ],
   "source": [
    "place_marker(test_board,'$',8)\n",
    "display_board(test_board)"
   ]
  },
  {
   "cell_type": "markdown",
   "metadata": {},
   "source": [
    "**Step 4: Write a function that takes in a board and a mark (X or O) and then checks to see if that mark has won.**"
   ]
  },
  {
   "cell_type": "code",
   "execution_count": 4,
   "metadata": {},
   "outputs": [],
   "source": [
    "def win_check(board, mark):\n",
    "    # 8 win conditions. 3 vertical, 3 horizontal, 2 diagonal\n",
    "    return ((board[1] == mark and board[2] == mark and board[3] == mark) or\n",
    "    (board[4] == mark and board[5] == mark and board[6] == mark) or\n",
    "    (board[7] == mark and board[8] == mark and board[9] == mark) or\n",
    "    (board[1] == mark and board[4] == mark and board[7] == mark) or\n",
    "    (board[8] == mark and board[5] == mark and board[2] == mark) or\n",
    "    (board[9] == mark and board[6] == mark and board[3] == mark) or\n",
    "    (board[7] == mark and board[5] == mark and board[3] == mark) or\n",
    "    (board[1] == mark and board[5] == mark and board[9] == mark))\n",
    "    pass"
   ]
  },
  {
   "cell_type": "markdown",
   "metadata": {},
   "source": [
    "**TEST Step 4:** run the win_check function against our test_board - it should return True"
   ]
  },
  {
   "cell_type": "code",
   "execution_count": 11,
   "metadata": {},
   "outputs": [
    {
     "data": {
      "text/plain": [
       "False"
      ]
     },
     "execution_count": 11,
     "metadata": {},
     "output_type": "execute_result"
    }
   ],
   "source": [
    "win_check(test_board,'O')"
   ]
  },
  {
   "cell_type": "markdown",
   "metadata": {},
   "source": [
    "**Step 5: Write a function that uses the random module to randomly decide which player goes first. You may want to lookup random.randint() Return a string of which player went first.**"
   ]
  },
  {
   "cell_type": "code",
   "execution_count": 5,
   "metadata": {},
   "outputs": [],
   "source": [
    "import random\n",
    "\n",
    "def choose_first():\n",
    "    a = random.randint(1,2)\n",
    "    if a == 1:\n",
    "        print(\"Player 1 goes first!\")\n",
    "        return 1\n",
    "    else:\n",
    "        print(\"Player 2 goes first!\")\n",
    "        return 2\n",
    "    pass"
   ]
  },
  {
   "cell_type": "markdown",
   "metadata": {},
   "source": [
    "**Step 6: Write a function that returns a boolean indicating whether a space on the board is freely available.**"
   ]
  },
  {
   "cell_type": "code",
   "execution_count": 19,
   "metadata": {},
   "outputs": [],
   "source": [
    "def space_check(board, position):\n",
    "    return board[position] == ' '\n",
    "    pass"
   ]
  },
  {
   "cell_type": "markdown",
   "metadata": {},
   "source": [
    "**Test Step 6**"
   ]
  },
  {
   "cell_type": "code",
   "execution_count": 31,
   "metadata": {},
   "outputs": [
    {
     "data": {
      "text/plain": [
       "True"
      ]
     },
     "execution_count": 31,
     "metadata": {},
     "output_type": "execute_result"
    }
   ],
   "source": [
    "space_check(test_board,1)"
   ]
  },
  {
   "cell_type": "markdown",
   "metadata": {},
   "source": [
    "**Step 7: Write a function that checks if the board is full and returns a boolean value. True if full, False otherwise.**"
   ]
  },
  {
   "cell_type": "code",
   "execution_count": 7,
   "metadata": {},
   "outputs": [],
   "source": [
    "def full_board_check(board):\n",
    "    return ' ' not in board\n",
    "    pass"
   ]
  },
  {
   "cell_type": "code",
   "execution_count": 15,
   "metadata": {},
   "outputs": [
    {
     "data": {
      "text/plain": [
       "True"
      ]
     },
     "execution_count": 15,
     "metadata": {},
     "output_type": "execute_result"
    }
   ],
   "source": [
    "full_board_check(test_board)"
   ]
  },
  {
   "cell_type": "markdown",
   "metadata": {},
   "source": [
    "**Step 8: Write a function that asks for a player's next position (as a number 1-9) and then uses the function from step 6 to check if it's a free position. If it is, then return the position for later use.**"
   ]
  },
  {
   "cell_type": "code",
   "execution_count": 45,
   "metadata": {},
   "outputs": [],
   "source": [
    "def player_choice(board):\n",
    "    \n",
    "    choice = 'WRONG'\n",
    "    # Range 1-10 means list starting from 1 and upto, BUT NOT INCLUDING, 10\n",
    "    acceptable_range_int = list(range(1,10))\n",
    "    acceptable_range = list(map(str,acceptable_range_int))\n",
    "    free_space = False\n",
    "\n",
    "    # 3 CONDITIONS TO CHECK\n",
    "    # IS DIGIT | WITHIN RANGE | FREE SPACE\n",
    "    while choice not in acceptable_range or free_space==False or choice.isdigit()==False:\n",
    "        \n",
    "        choice = input(\"Please select a position on the board (1-9): \")\n",
    "        \n",
    "        # DIGIT CHECK\n",
    "        if choice.isdigit() == False:\n",
    "            print(\"Sorry, that is not a digit! Please choose a position on the board (1-9).\")\n",
    "                \n",
    "        # WITHIN RANGE CHECK\n",
    "        if choice.isdigit() == True:\n",
    "            if choice in acceptable_range:\n",
    "                pass\n",
    "            else:\n",
    "                print(\"Sorry, please choose a position on the board (1-9).\")\n",
    "            \n",
    "        # FREE SPACE CHECK\n",
    "        if choice.isdigit()==True and choice in acceptable_range:\n",
    "            if space_check(board,int(choice)) == True:\n",
    "                free_space = True\n",
    "            else:\n",
    "                print(\"Sorry, that space is taken! Please choose another one (1-9).\")\n",
    "                free_space = False\n",
    "    \n",
    "    # Return the selected empty position as an integer\n",
    "    return int(choice)\n",
    "    \n",
    "    pass"
   ]
  },
  {
   "cell_type": "markdown",
   "metadata": {},
   "source": [
    "**Test Step 8**"
   ]
  },
  {
   "cell_type": "code",
   "execution_count": 46,
   "metadata": {},
   "outputs": [
    {
     "name": "stdout",
     "output_type": "stream",
     "text": [
      "Please select a position on the board (1-9): 1\n"
     ]
    },
    {
     "data": {
      "text/plain": [
       "1"
      ]
     },
     "execution_count": 46,
     "metadata": {},
     "output_type": "execute_result"
    }
   ],
   "source": [
    "player_choice(test_board)"
   ]
  },
  {
   "cell_type": "markdown",
   "metadata": {},
   "source": [
    "**Step 9: Write a function that asks the player if they want to play again and returns a boolean True if they do want to play again.**"
   ]
  },
  {
   "cell_type": "code",
   "execution_count": 9,
   "metadata": {},
   "outputs": [],
   "source": [
    "def replay():\n",
    "    choice = 'WRONG'\n",
    "    acceptable_values = ['Y','N']\n",
    "    \n",
    "    while choice not in acceptable_values:\n",
    "        choice = input(\"Do you want to play again? (Y or N):\")\n",
    "        if choice not in acceptable_values:\n",
    "            print(\"Sorry, I do not understand. Please enter either Y or N.\")\n",
    "    \n",
    "    if choice == 'Y':\n",
    "        return True\n",
    "    else:\n",
    "        return False\n",
    "    pass"
   ]
  },
  {
   "cell_type": "markdown",
   "metadata": {
    "collapsed": true
   },
   "source": [
    "**Step 10: Here comes the hard part! Use while loops and the functions you've made to run the game!**"
   ]
  },
  {
   "cell_type": "markdown",
   "metadata": {},
   "source": [
    "**Before starting this:** Building extra functions needed"
   ]
  },
  {
   "cell_type": "code",
   "execution_count": 10,
   "metadata": {},
   "outputs": [],
   "source": [
    "# Building a function that creates an empty board\n",
    "def new_board():\n",
    "    board = ['#',' ',' ',' ',' ',' ',' ',' ',' ',' ']\n",
    "    return board"
   ]
  },
  {
   "cell_type": "code",
   "execution_count": 47,
   "metadata": {},
   "outputs": [
    {
     "name": "stdout",
     "output_type": "stream",
     "text": [
      "Welcome to Tic Tac Toe!\n",
      "Will you be X or O?: X\n",
      "Player 1 goes first!\n",
      "This is how the board looks right now.\n",
      " | | \n",
      " | | \n",
      " | | \n",
      "It is player 1's turn! (Marker: X)\n",
      "Please select a position on the board (1-9): 1\n",
      "This is how the board looks right now.\n",
      " | | \n",
      " | | \n",
      "X| | \n",
      "It is player 2's turn! (Marker: O)\n",
      "Please select a position on the board (1-9): 2\n",
      "This is how the board looks right now.\n",
      " | | \n",
      " | | \n",
      "X|O| \n",
      "It is player 1's turn! (Marker: X)\n",
      "Please select a position on the board (1-9): 4\n",
      "This is how the board looks right now.\n",
      " | | \n",
      "X| | \n",
      "X|O| \n",
      "It is player 2's turn! (Marker: O)\n",
      "Please select a position on the board (1-9): 3\n",
      "This is how the board looks right now.\n",
      " | | \n",
      "X| | \n",
      "X|O|O\n",
      "It is player 1's turn! (Marker: X)\n",
      "Please select a position on the board (1-9): 7\n",
      "Congratulations Player 1, you won!\n",
      "Do you want to play again? (Y or N):N\n"
     ]
    }
   ],
   "source": [
    "print('Welcome to Tic Tac Toe!')\n",
    "\n",
    "while True:\n",
    "    # Set the game up here\n",
    "    # Creates an empty board\n",
    "    board = new_board()\n",
    "    # Players choose their markers\n",
    "    [player1_marker,player2_marker] = player_input()\n",
    "    # Deciding who goes first. whosfirst is either 1 or 2.\n",
    "    whosfirst = choose_first()\n",
    "    if whosfirst == 1:\n",
    "        whossecond = 2\n",
    "        firstplayermarker = player1_marker\n",
    "        secondplayermarker = player2_marker\n",
    "    else:\n",
    "        whossecond = 1\n",
    "        firstplayermarker = player2_marker\n",
    "        secondplayermarker = player1_marker\n",
    "    pass\n",
    "\n",
    "    while full_board_check(board) == False:\n",
    "        # Display board\n",
    "        print(\"This is how the board looks right now.\")\n",
    "        display_board(board)\n",
    "        \n",
    "        # First Player Turn\n",
    "        print(\"It is player \" +str(whosfirst)+ \"'s turn! (Marker: \" +firstplayermarker+ \")\")\n",
    "        position = player_choice(board)\n",
    "        place_marker(board,firstplayermarker,position)\n",
    "        \n",
    "        # Check if the board is full. Board is only full after a First Player move, so put it here.\n",
    "        if full_board_check(board) == True:\n",
    "            print(\"The board is now full!\")\n",
    "            display_board(board)\n",
    "            break\n",
    "        else:\n",
    "            # Continue the game\n",
    "            pass\n",
    "        \n",
    "        # WIN CHECK after every person's turn so game can end earlier than full board\n",
    "        if win_check(board,player1_marker) == True:\n",
    "            print(\"Congratulations Player 1, you won!\")\n",
    "            break\n",
    "        elif win_check(board,player2_marker) == True:\n",
    "            print(\"Congratulations Player 2, you won!\")\n",
    "            break\n",
    "        else:\n",
    "            pass\n",
    "        \n",
    "        # Display board\n",
    "        print(\"This is how the board looks right now.\")\n",
    "        display_board(board)\n",
    "        \n",
    "        # Second Player Turn.\n",
    "        print(\"It is player \" +str(whossecond)+ \"'s turn! (Marker: \" +secondplayermarker+ \")\")\n",
    "        position = player_choice(board)\n",
    "        place_marker(board,secondplayermarker,position)\n",
    "        \n",
    "        # WIN CHECK after every person's turn so game can end earlier than full board\n",
    "        if win_check(board,player1_marker) == True:\n",
    "            print(\"Congratulations Player 1, you won!\")\n",
    "            break\n",
    "        elif win_check(board,player2_marker) == True:\n",
    "            print(\"Congratulations Player 2, you won!\")\n",
    "            break\n",
    "        else:\n",
    "            pass\n",
    "        \n",
    "    \n",
    "    # Check who won when full board\n",
    "    if full_board_check(board):\n",
    "        if win_check(board,player1_marker) == True:\n",
    "            print(\"Congratulations Player 1, you won!\")\n",
    "        elif win_check(board,player2_marker) == True:\n",
    "            print(\"Congratulations Player 2, you won!\")\n",
    "        elif win_check(board,player1_marker) == False and win_check(board,player2_marker) == False:\n",
    "            print(\"It is a tie!\")\n",
    "        else:\n",
    "            pass\n",
    "    else:\n",
    "        pass\n",
    "    \n",
    "    if not replay():\n",
    "        break"
   ]
  },
  {
   "cell_type": "markdown",
   "metadata": {
    "collapsed": true
   },
   "source": [
    "## Good Job!"
   ]
  }
 ],
 "metadata": {
  "kernelspec": {
   "display_name": "Python 3",
   "language": "python",
   "name": "python3"
  },
  "language_info": {
   "codemirror_mode": {
    "name": "ipython",
    "version": 3
   },
   "file_extension": ".py",
   "mimetype": "text/x-python",
   "name": "python",
   "nbconvert_exporter": "python",
   "pygments_lexer": "ipython3",
   "version": "3.8.8"
  }
 },
 "nbformat": 4,
 "nbformat_minor": 1
}
